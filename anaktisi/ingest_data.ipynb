{
 "nbformat": 4,
 "nbformat_minor": 2,
 "metadata": {
  "language_info": {
   "name": "python",
   "codemirror_mode": {
    "name": "ipython",
    "version": 3
   },
   "version": "3.7.9-final"
  },
  "orig_nbformat": 2,
  "file_extension": ".py",
  "mimetype": "text/x-python",
  "name": "python",
  "npconvert_exporter": "python",
  "pygments_lexer": "ipython3",
  "version": 3,
  "kernelspec": {
   "name": "python37964bit8a58e4cfc85b4460b8d6a1cd612c8d43",
   "display_name": "Python 3.7.9 64-bit"
  }
 },
 "cells": [
  {
   "cell_type": "code",
   "execution_count": 1,
   "metadata": {},
   "outputs": [],
   "source": [
    "import datetime\n",
    "import json\n",
    "import requests\n",
    "\n",
    "import pandas as pd\n",
    "import numpy as np \n",
    "\n",
    "from elasticsearch import Elasticsearch"
   ]
  },
  {
   "cell_type": "code",
   "execution_count": 2,
   "metadata": {},
   "outputs": [
    {
     "data": {
      "text/plain": "b'{\\n  \"name\" : \"610ce580113a\",\\n  \"cluster_name\" : \"docker-cluster\",\\n  \"cluster_uuid\" : \"g5JRzLAmQfmbTyAawGKGfQ\",\\n  \"version\" : {\\n    \"number\" : \"7.9.2\",\\n    \"build_flavor\" : \"default\",\\n    \"build_type\" : \"docker\",\\n    \"build_hash\" : \"d34da0ea4a966c4e49417f2da2f244e3e97b4e6e\",\\n    \"build_date\" : \"2020-09-23T00:45:33.626720Z\",\\n    \"build_snapshot\" : false,\\n    \"lucene_version\" : \"8.6.2\",\\n    \"minimum_wire_compatibility_version\" : \"6.8.0\",\\n    \"minimum_index_compatibility_version\" : \"6.0.0-beta1\"\\n  },\\n  \"tagline\" : \"You Know, for Search\"\\n}\\n'"
     },
     "execution_count": 2,
     "metadata": {},
     "output_type": "execute_result"
    }
   ],
   "source": [
    "res = requests.get('http://localhost:9200')\n",
    "res.content"
   ]
  },
  {
   "cell_type": "code",
   "execution_count": 3,
   "metadata": {},
   "outputs": [],
   "source": [
    "SKIP_INDEX_MAPPING_CREATION = False\n",
    "\n",
    "es = Elasticsearch([{'host': 'localhost', 'port': 9200}])"
   ]
  },
  {
   "cell_type": "code",
   "execution_count": 4,
   "metadata": {},
   "outputs": [],
   "source": [
    "\n",
    "df = pd.read_csv('movies.csv')\n",
    "df['title'] = df['title'].map(lambda x: x.strip())\n",
    "df['genres'] = df['genres'].map(lambda x: x.split('|'))\n",
    "# df['year'] = df['title'].map(lambda x: x[-6:][1:-1])\n",
    "df = df.astype({'title': 'str'})\n",
    "\n",
    "df_movies = df\n",
    "\n",
    "df = pd.read_csv('ratings.csv')\n",
    "df['datetime'] = df['timestamp'].map(lambda x: datetime.datetime.fromtimestamp(x))\n",
    "\n",
    "df_ratings = df\n",
    ""
   ]
  },
  {
   "cell_type": "code",
   "execution_count": 5,
   "metadata": {},
   "outputs": [],
   "source": [
    "if not SKIP_INDEX_MAPPING_CREATION:\n",
    "    es.indices.create(index='movies', ignore=400)\n",
    "    mapping = {\n",
    "                'properties': {\n",
    "                    'title': {'type': 'text'}\n",
    "                }\n",
    "            }\n",
    "    es.indices.put_mapping(body=json.dumps(mapping), index='movies', doc_type='movie', include_type_name=True)"
   ]
  },
  {
   "cell_type": "code",
   "execution_count": 6,
   "metadata": {},
   "outputs": [],
   "source": [
    "for idx, row in df_movies.iterrows():\n",
    "    title = row['title']\n",
    "    movieId = row['movieId']\n",
    "    genres = row['genres']\n",
    "\n",
    "    entry = {\n",
    "        'title': title,\n",
    "        'genres': genres\n",
    "    }\n",
    "\n",
    "    es.index(index='movies', doc_type='movie', id=movieId, body=json.dumps(entry))"
   ]
  },
  {
   "cell_type": "code",
   "execution_count": null,
   "metadata": {},
   "outputs": [],
   "source": [
    "mapping = {\n",
    "    'properties': {\n",
    "        'datetime': {\n",
    "            'type': 'date',\n",
    "            'format': 'yyyy-MM-dd HH:mm:ss'\n",
    "        },\n",
    "    },\n",
    "    # '_parent': {\n",
    "    #     'type': 'movie'\n",
    "    # }\n",
    "}\n",
    "\n",
    "if not SKIP_INDEX_MAPPING_CREATION:\n",
    "    es.indices.create(index='ratings',ignore=400)\n",
    "    es.indices.put_mapping(json.dumps(mapping), index='ratings', doc_type='rating', include_type_name=True)"
   ]
  },
  {
   "cell_type": "code",
   "execution_count": null,
   "metadata": {},
   "outputs": [],
   "source": [
    "for idx, row in df_ratings.iterrows():\n",
    "    tt = row['datetime']\n",
    "    rating = row['rating']\n",
    "    userId = row['userId']\n",
    "    movieId = row['movieId']\n",
    "\n",
    "    entry = {\n",
    "        'datetime': str(tt),\n",
    "        'rating': rating,\n",
    "        'userId': userId,\n",
    "        'movieId': movieId\n",
    "    }\n",
    "\n",
    "    es.index(index='ratings', doc_type='rating', id=f'{userId}-{movieId}', body=json.dumps(entry))"
   ]
  }
 ]
}
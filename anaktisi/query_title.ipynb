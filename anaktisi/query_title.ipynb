{
 "nbformat": 4,
 "nbformat_minor": 2,
 "metadata": {
  "language_info": {
   "name": "python",
   "codemirror_mode": {
    "name": "ipython",
    "version": 3
   },
   "version": "3.7.9-final"
  },
  "orig_nbformat": 2,
  "file_extension": ".py",
  "mimetype": "text/x-python",
  "name": "python",
  "npconvert_exporter": "python",
  "pygments_lexer": "ipython3",
  "version": 3,
  "kernelspec": {
   "name": "python37964bit8a58e4cfc85b4460b8d6a1cd612c8d43",
   "display_name": "Python 3.7.9 64-bit"
  }
 },
 "cells": [
  {
   "cell_type": "code",
   "execution_count": 2,
   "metadata": {},
   "outputs": [],
   "source": [
    "import datetime\n",
    "import json\n",
    "import requests\n",
    "\n",
    "from elasticsearch import Elasticsearch"
   ]
  },
  {
   "cell_type": "code",
   "execution_count": 3,
   "metadata": {},
   "outputs": [],
   "source": [
    "es = Elasticsearch([{'host': 'localhost', 'port': 9200}])"
   ]
  },
  {
   "cell_type": "code",
   "execution_count": 4,
   "metadata": {},
   "outputs": [],
   "source": [
    "q = 'dark'"
   ]
  },
  {
   "cell_type": "code",
   "execution_count": 6,
   "metadata": {},
   "outputs": [
    {
     "data": {
      "text/plain": "{'took': 5,\n 'timed_out': False,\n '_shards': {'total': 1, 'successful': 1, 'skipped': 0, 'failed': 0},\n 'hits': {'total': {'value': 33, 'relation': 'eq'},\n  'max_score': 6.3944416,\n  'hits': [{'_index': 'movies',\n    '_type': 'movie',\n    '_id': '1748',\n    '_score': 6.3944416,\n    '_source': {'title': 'Dark City (1998)',\n     'genres': ['Adventure', 'Film-Noir', 'Sci-Fi', 'Thriller']}},\n   {'_index': 'movies',\n    '_type': 'movie',\n    '_id': '3727',\n    '_score': 6.3944416,\n    '_source': {'title': 'Near Dark (1987)', 'genres': ['Horror', 'Western']}},\n   {'_index': 'movies',\n    '_type': 'movie',\n    '_id': '6185',\n    '_score': 6.3944416,\n    '_source': {'title': 'Dark Blue (2003)',\n     'genres': ['Action', 'Crime', 'Drama', 'Thriller']}},\n   {'_index': 'movies',\n    '_type': 'movie',\n    '_id': '7061',\n    '_score': 6.3944416,\n    '_source': {'title': 'Dark Victory (1939)',\n     'genres': ['Drama', 'Romance']}},\n   {'_index': 'movies',\n    '_type': 'movie',\n    '_id': '7217',\n    '_score': 6.3944416,\n    '_source': {'title': 'Dark Passage (1947)',\n     'genres': ['Crime', 'Drama', 'Film-Noir', 'Romance', 'Thriller']}},\n   {'_index': 'movies',\n    '_type': 'movie',\n    '_id': '7932',\n    '_score': 6.3944416,\n    '_source': {'title': 'Dark Days (2000)', 'genres': ['Documentary']}},\n   {'_index': 'movies',\n    '_type': 'movie',\n    '_id': '34143',\n    '_score': 6.3944416,\n    '_source': {'title': 'Dark Water (2005)',\n     'genres': ['Drama', 'Horror', 'Thriller']}},\n   {'_index': 'movies',\n    '_type': 'movie',\n    '_id': '94478',\n    '_score': 6.3944416,\n    '_source': {'title': 'Dark Shadows (2012)',\n     'genres': ['Comedy', 'Horror', 'IMAX']}},\n   {'_index': 'movies',\n    '_type': 'movie',\n    '_id': '101884',\n    '_score': 6.3944416,\n    '_source': {'title': 'Dark Tide (2012)',\n     'genres': ['Adventure', 'Drama', 'Thriller']}},\n   {'_index': 'movies',\n    '_type': 'movie',\n    '_id': '108506',\n    '_score': 6.3944416,\n    '_source': {'title': 'Dark Touch (2013)', 'genres': ['Horror']}},\n   {'_index': 'movies',\n    '_type': 'movie',\n    '_id': '2140',\n    '_score': 5.767435,\n    '_source': {'title': 'Dark Crystal, The (1982)',\n     'genres': ['Adventure', 'Fantasy']}},\n   {'_index': 'movies',\n    '_type': 'movie',\n    '_id': '2898',\n    '_score': 5.767435,\n    '_source': {'title': 'Dark Half, The (1993)',\n     'genres': ['Horror', 'Mystery']}},\n   {'_index': 'movies',\n    '_type': 'movie',\n    '_id': '6639',\n    '_score': 5.767435,\n    '_source': {'title': 'Wait Until Dark (1967)',\n     'genres': ['Drama', 'Thriller']}},\n   {'_index': 'movies',\n    '_type': 'movie',\n    '_id': '58559',\n    '_score': 5.767435,\n    '_source': {'title': 'Dark Knight, The (2008)',\n     'genres': ['Action', 'Crime', 'Drama', 'IMAX']}},\n   {'_index': 'movies',\n    '_type': 'movie',\n    '_id': '98961',\n    '_score': 5.767435,\n    '_source': {'title': 'Zero Dark Thirty (2012)',\n     'genres': ['Action', 'Drama', 'Thriller']}},\n   {'_index': 'movies',\n    '_type': 'movie',\n    '_id': '3910',\n    '_score': 5.252411,\n    '_source': {'title': 'Dancer in the Dark (2000)',\n     'genres': ['Drama', 'Musical']}},\n   {'_index': 'movies',\n    '_type': 'movie',\n    '_id': '5918',\n    '_score': 5.252411,\n    '_source': {'title': 'Alone in the Dark (1982)', 'genres': ['Horror']}},\n   {'_index': 'movies',\n    '_type': 'movie',\n    '_id': '33021',\n    '_score': 5.252411,\n    '_source': {'title': 'Dark Habits (Entre tinieblas) (1983)',\n     'genres': ['Comedy', 'Drama']}},\n   {'_index': 'movies',\n    '_type': 'movie',\n    '_id': '91529',\n    '_score': 5.252411,\n    '_source': {'title': 'Dark Knight Rises, The (2012)',\n     'genres': ['Action', 'Adventure', 'Crime', 'IMAX']}},\n   {'_index': 'movies',\n    '_type': 'movie',\n    '_id': '106072',\n    '_score': 5.252411,\n    '_source': {'title': 'Thor: The Dark World (2013)',\n     'genres': ['Action', 'Adventure', 'Fantasy', 'IMAX']}}]}}"
     },
     "execution_count": 6,
     "metadata": {},
     "output_type": "execute_result"
    }
   ],
   "source": [
    "query = {\n",
    "    'query': {\n",
    "        'match': {\n",
    "            'title': q\n",
    "        }\n",
    "    },\n",
    "    'sort': [{'_score': 'desc'}]\n",
    "}\n",
    "res = es.search(index='movies', doc_type='movie', body=json.dumps(query), params={'size': 20})\n",
    "res"
   ]
  },
  {
   "cell_type": "code",
   "execution_count": null,
   "metadata": {},
   "outputs": [],
   "source": []
  }
 ]
}
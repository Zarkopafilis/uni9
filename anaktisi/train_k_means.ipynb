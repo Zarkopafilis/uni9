{
 "nbformat": 4,
 "nbformat_minor": 2,
 "metadata": {
  "language_info": {
   "name": "python",
   "codemirror_mode": {
    "name": "ipython",
    "version": 3
   },
   "version": "3.7.9-final"
  },
  "orig_nbformat": 2,
  "file_extension": ".py",
  "mimetype": "text/x-python",
  "name": "python",
  "npconvert_exporter": "python",
  "pygments_lexer": "ipython3",
  "version": 3,
  "kernelspec": {
   "name": "python37964bit8a58e4cfc85b4460b8d6a1cd612c8d43",
   "display_name": "Python 3.7.9 64-bit"
  }
 },
 "cells": [
  {
   "cell_type": "code",
   "execution_count": 2,
   "metadata": {},
   "outputs": [],
   "source": [
    "import datetime\n",
    "import json\n",
    "import requests\n",
    "import itertools\n",
    "import pickle\n",
    "\n",
    "import pandas as pd\n",
    "import numpy as np \n",
    "from scipy.sparse import hstack\n",
    "\n",
    "from sklearn.cluster import KMeans\n",
    "from sklearn.preprocessing import OneHotEncoder\n",
    "\n",
    "from elasticsearch import Elasticsearch"
   ]
  },
  {
   "cell_type": "code",
   "execution_count": 3,
   "metadata": {},
   "outputs": [],
   "source": [
    "df = pd.read_csv('movies.csv')\n",
    "df['title'] = df['title'].map(lambda x: x.strip())\n",
    "df['genres'] = df['genres'].map(lambda x: x.split('|'))\n",
    "# df['year'] = df['title'].map(lambda x: x[-6:][1:-1])\n",
    "df = df.astype({'title': 'str'})\n",
    "\n",
    "df_movies = df\n",
    "\n",
    "df = pd.read_csv('ratings.csv')\n",
    "df['datetime'] = df['timestamp'].map(lambda x: datetime.datetime.fromtimestamp(x))\n",
    "\n",
    "df_ratings = df"
   ]
  },
  {
   "cell_type": "code",
   "execution_count": 4,
   "metadata": {},
   "outputs": [
    {
     "data": {
      "text/plain": "{'(no genres listed)',\n 'Action',\n 'Adventure',\n 'Animation',\n 'Children',\n 'Comedy',\n 'Crime',\n 'Documentary',\n 'Drama',\n 'Fantasy',\n 'Film-Noir',\n 'Horror',\n 'IMAX',\n 'Musical',\n 'Mystery',\n 'Romance',\n 'Sci-Fi',\n 'Thriller',\n 'War',\n 'Western'}"
     },
     "execution_count": 4,
     "metadata": {},
     "output_type": "execute_result"
    }
   ],
   "source": [
    "userIds = df_ratings['userId'].unique()\n",
    "movieIds = df_ratings['movieId'].unique()\n",
    "\n",
    "ratings = df_ratings['rating'].unique()\n",
    "\n",
    "genres = set()\n",
    "\n",
    "movie_genre_map = {}\n",
    "\n",
    "for idx, row in df_movies.iterrows():\n",
    "    movie_genre_map[row['movieId']] = row['genres']\n",
    "    genres.update(row['genres'])\n",
    "genres"
   ]
  },
  {
   "cell_type": "code",
   "execution_count": 5,
   "metadata": {},
   "outputs": [],
   "source": [
    "user_genre_map = {u: {g: 0 for g in genres} for u in userIds}\n",
    "user_genre_count = {u: {g: 0 for g in genres} for u in userIds}\n",
    "\n",
    "for idx, row in df_ratings.iterrows():\n",
    "    _genres = movie_genre_map[row['movieId']]\n",
    "    r = row['rating']\n",
    "    u = row['userId']\n",
    "    for g in genres:\n",
    "        user_genre_count[u][g] += 1\n",
    "        user_genre_map[u][g] += r\n",
    "\n",
    "for u in userIds:\n",
    "    for g in genres:\n",
    "        user_genre_map[u][g] = user_genre_map[u][g] / user_genre_count[u][g]"
   ]
  },
  {
   "cell_type": "code",
   "execution_count": 14,
   "metadata": {},
   "outputs": [
    {
     "data": {
      "text/plain": "(671,)"
     },
     "execution_count": 14,
     "metadata": {},
     "output_type": "execute_result"
    }
   ],
   "source": [
    "X = np.array(list(user_genre_map.keys()))\n",
    "X.shape"
   ]
  },
  {
   "cell_type": "code",
   "execution_count": 22,
   "metadata": {},
   "outputs": [
    {
     "data": {
      "text/plain": "or': 4.14,\n  'Drama': 4.14,\n  'Comedy': 4.14,\n  'Mystery': 4.14,\n  'Film-Noir': 4.14,\n  'Animation': 4.14,\n  'War': 4.14,\n  'Western': 4.14,\n  'Thriller': 4.14,\n  'Documentary': 4.14,\n  'IMAX': 4.14,\n  'Fantasy': 4.14,\n  'Sci-Fi': 4.14,\n  'Musical': 4.14,\n  'Action': 4.14},\n {'Crime': 3.0,\n  'Children': 3.0,\n  '(no genres listed)': 3.0,\n  'Romance': 3.0,\n  'Adventure': 3.0,\n  'Horror': 3.0,\n  'Drama': 3.0,\n  'Comedy': 3.0,\n  'Mystery': 3.0,\n  'Film-Noir': 3.0,\n  'Animation': 3.0,\n  'War': 3.0,\n  'Western': 3.0,\n  'Thriller': 3.0,\n  'Documentary': 3.0,\n  'IMAX': 3.0,\n  'Fantasy': 3.0,\n  'Sci-Fi': 3.0,\n  'Musical': 3.0,\n  'Action': 3.0},\n {'Crime': 3.381818181818182,\n  'Children': 3.381818181818182,\n  '(no genres listed)': 3.381818181818182,\n  'Romance': 3.381818181818182,\n  'Adventure': 3.381818181818182,\n  'Horror': 3.381818181818182,\n  'Drama': 3.381818181818182,\n  'Comedy': 3.381818181818182,\n  'Mystery': 3.381818181818182,\n  'Film-Noir': 3.381818181818182,\n  'Animation': 3.381818181818182,\n  'War': 3.381818181818182,\n  'Western': 3.381818181818182,\n  'Thriller': 3.381818181818182,\n  'Documentary': 3.381818181818182,\n  'IMAX': 3.381818181818182,\n  'Fantasy': 3.381818181818182,\n  'Sci-Fi': 3.381818181818182,\n  'Musical': 3.381818181818182,\n  'Action': 3.381818181818182},\n {'Crime': 3.6530612244897958,\n  'Children': 3.6530612244897958,\n  '(no genres listed)': 3.6530612244897958,\n  'Romance': 3.6530612244897958,\n  'Adventure': 3.6530612244897958,\n  'Horror': 3.6530612244897958,\n  'Drama': 3.6530612244897958,\n  'Comedy': 3.6530612244897958,\n  'Mystery': 3.6530612244897958,\n  'Film-Noir': 3.6530612244897958,\n  'Animation': 3.6530612244897958,\n  'War': 3.6530612244897958,\n  'Western': 3.6530612244897958,\n  'Thriller': 3.6530612244897958,\n  'Documentary': 3.6530612244897958,\n  'IMAX': 3.6530612244897958,\n  'Fantasy': 3.6530612244897958,\n  'Sci-Fi': 3.6530612244897958,\n  'Musical': 3.6530612244897958,\n  'Action': 3.6530612244897958},\n {'Crime': 3.9,\n  'Children': 3.9,\n  '(no genres listed)': 3.9,\n  'Romance': 3.9,\n  'Adventure': 3.9,\n  'Horror': 3.9,\n  'Drama': 3.9,\n  'Comedy': 3.9,\n  'Mystery': 3.9,\n  'Film-Noir': 3.9,\n  'Animation': 3.9,\n  'War': 3.9,\n  'Western': 3.9,\n  'Thriller': 3.9,\n  'Documentary': 3.9,\n  'IMAX': 3.9,\n  'Fantasy': 3.9,\n  'Sci-Fi': 3.9,\n  'Musical': 3.9,\n  'Action': 3.9},\n {'Crime': 3.9166666666666665,\n  'Children': 3.9166666666666665,\n  '(no genres listed)': 3.9166666666666665,\n  'Romance': 3.9166666666666665,\n  'Adventure': 3.9166666666666665,\n  'Horror': 3.9166666666666665,\n  'Drama': 3.9166666666666665,\n  'Comedy': 3.9166666666666665,\n  'Mystery': 3.9166666666666665,\n  'Film-Noir': 3.9166666666666665,\n  'Animation': 3.9166666666666665,\n  'War': 3.9166666666666665,\n  'Western': 3.9166666666666665,\n  'Thriller': 3.9166666666666665,\n  'Documentary': 3.9166666666666665,\n  'IMAX': 3.9166666666666665,\n  'Fantasy': 3.9166666666666665,\n  'Sci-Fi': 3.9166666666666665,\n  'Musical': 3.9166666666666665,\n  'Action': 3.9166666666666665},\n {'Crime': 3.3958333333333335,\n  'Children': 3.3958333333333335,\n  '(no genres listed)': 3.3958333333333335,\n  'Romance': 3.3958333333333335,\n  'Adventure': 3.3958333333333335,\n  'Horror': 3.3958333333333335,\n  'Drama': 3.3958333333333335,\n  'Comedy': 3.3958333333333335,\n  'Mystery': 3.3958333333333335,\n  'Film-Noir': 3.3958333333333335,\n  'Animation': 3.3958333333333335,\n  'War': 3.3958333333333335,\n  'Western': 3.3958333333333335,\n  'Thriller': 3.3958333333333335,\n  'Documentary': 3.3958333333333335,\n  'IMAX': 3.3958333333333335,\n  'Fantasy': 3.3958333333333335,\n  'Sci-Fi': 3.3958333333333335,\n  'Musical': 3.3958333333333335,\n  'Action': 3.3958333333333335},\n {'Crime': 3.7435897435897436,\n  'Children': 3.7435897435897436,\n  '(no genres listed)': 3.7435897435897436,\n  'Romance': 3.7435897435897436,\n  'Adventure': 3.7435897435897436,\n  'Horror': 3.7435897435897436,\n  'Drama': 3.7435897435897436,\n  'Comedy': 3.7435897435897436,\n  'Mystery': 3.7435897435897436,\n  'Film-Noir': 3.7435897435897436,\n  'Animation': 3.7435897435897436,\n  'War': 3.7435897435897436,\n  'Western': 3.7435897435897436,\n  'Thriller': 3.7435897435897436,\n  'Documentary': 3.7435897435897436,\n  'IMAX': 3.7435897435897436,\n  'Fantasy': 3.7435897435897436,\n  'Sci-Fi': 3.7435897435897436,\n  'Musical': 3.7435897435897436,\n  'Action': 3.7435897435897436},\n {'Crime': 3.683333333333333,\n  'Children': 3.683333333333333,\n  '(no genres listed)': 3.683333333333333,\n  'Romance': 3.683333333333333,\n  'Adventure': 3.683333333333333,\n  'Horror': 3.683333333333333,\n  'Drama': 3.683333333333333,\n  'Comedy': 3.683333333333333,\n  'Mystery': 3.683333333333333,\n  'Film-Noir': 3.683333333333333,\n  'Animation': 3.683333333333333,\n  'War': 3.683333333333333,\n  'Western': 3.683333333333333,\n  'Thriller': 3.683333333333333,\n  'Documentary': 3.683333333333333,\n  'IMAX': 3.683333333333333,\n  'Fantasy': 3.683333333333333,\n  'Sci-Fi': 3.683333333333333,\n  'Musical': 3.683333333333333,\n  'Action': 3.683333333333333},\n {'Crime': 4.1301775147929,\n  'Children': 4.1301775147929,\n  '(no genres listed)': 4.1301775147929,\n  'Romance': 4.1301775147929,\n  'Adventure': 4.1301775147929,\n  'Horror': 4.1301775147929,\n  'Drama': 4.1301775147929,\n  'Comedy': 4.1301775147929,\n  'Mystery': 4.1301775147929,\n  'Film-Noir': 4.1301775147929,\n  'Animation': 4.1301775147929,\n  'War': 4.1301775147929,\n  'Western': 4.1301775147929,\n  'Thriller': 4.1301775147929,\n  'Documentary': 4.1301775147929,\n  'IMAX': 4.1301775147929,\n  'Fantasy': 4.1301775147929,\n  'Sci-Fi': 4.1301775147929,\n  'Musical': 4.1301775147929,\n  'Action': 4.1301775147929},\n {'Crime': 4.273333333333333,\n  'Children': 4.273333333333333,\n  '(no genres listed)': 4.273333333333333,\n  'Romance': 4.273333333333333,\n  'Adventure': 4.273333333333333,\n  'Horror': 4.273333333333333,\n  'Drama': 4.273333333333333,\n  'Comedy': 4.273333333333333,\n  'Mystery': 4.273333333333333,\n  'Film-Noir': 4.273333333333333,\n  'Animation': 4.273333333333333,\n  'War': 4.273333333333333,\n  'Western': 4.273333333333333,\n  'Thriller': 4.273333333333333,\n  'Documentary': 4.273333333333333,\n  'IMAX': 4.273333333333333,\n  'Fantasy': 4.273333333333333,\n  'Sci-Fi': 4.273333333333333,\n  'Musical': 4.273333333333333,\n  'Action': 4.273333333333333},\n {'Crime': 3.62890625,\n  'Children': 3.62890625,\n  '(no genres listed)': 3.62890625,\n  'Romance': 3.62890625,\n  'Adventure': 3.62890625,\n  'Horror': 3.62890625,\n  'Drama': 3.62890625,\n  'Comedy': 3.62890625,\n  'Mystery': 3.62890625,\n  'Film-Noir': 3.62890625,\n  'Animation': 3.62890625,\n  'War': 3.62890625,\n  'Western': 3.62890625,\n  'Thriller': 3.62890625,\n  'Documentary': 3.62890625,\n  'IMAX': 3.62890625,\n  'Fantasy': 3.62890625,\n  'Sci-Fi': 3.62890625,\n  'Musical': 3.62890625,\n  'Action': 3.62890625},\n {'Crime': 3.511111111111111,\n  'Children': 3.511111111111111,\n  '(no genres listed)': 3.511111111111111,\n  'Romance': 3.511111111111111,\n  'Adventure': 3.511111111111111,\n  'Horror': 3.511111111111111,\n  'Drama': 3.511111111111111,\n  'Comedy': 3.511111111111111,\n  'Mystery': 3.511111111111111,\n  'Film-Noir': 3.511111111111111,\n  'Animation': 3.511111111111111,\n  'War': 3.511111111111111,\n  'Western': 3.511111111111111,\n  'Thriller': 3.511111111111111,\n  'Documentary': 3.511111111111111,\n  'IMAX': 3.511111111111111,\n  'Fantasy': 3.511111111111111,\n  'Sci-Fi': 3.511111111111111,\n  'Musical': 3.511111111111111,\n  'Action': 3.511111111111111},\n {'Crime': 3.310344827586207,\n  'Children': 3.310344827586207,\n  '(no genres listed)': 3.310344827586207,\n  'Romance': 3.310344827586207,\n  'Adventure': 3.310344827586207,\n  'Horror': 3.310344827586207,\n  'Drama': 3.310344827586207,\n  'Comedy': 3.310344827586207,\n  'Mystery': 3.310344827586207,\n  'Film-Noir': 3.310344827586207,\n  'Animation': 3.310344827586207,\n  'War': 3.310344827586207,\n  'Western': 3.310344827586207,\n  'Thriller': 3.310344827586207,\n  'Documentary': 3.310344827586207,\n  'IMAX': 3.310344827586207,\n  'Fantasy': 3.310344827586207,\n  'Sci-Fi': 3.310344827586207,\n  'Musical': 3.310344827586207,\n  'Action': 3.310344827586207},\n {'Crime': 3.9,\n  'Children': 3.9,\n  '(no genres listed)': 3.9,\n  'Romance': 3.9,\n  'Adventure': 3.9,\n  'Horror': 3.9,\n  'Drama': 3.9,\n  'Comedy': 3.9,\n  'Mystery': 3.9,\n  'Film-Noir': 3.9,\n  'Animation': 3.9,\n  'War': 3.9,\n  'Western': 3.9,\n  'Thriller': 3.9,\n  'Documentary': 3.9,\n  'IMAX': 3.9,\n  'Fantasy': 3.9,\n  'Sci-Fi': 3.9,\n  'Musical': 3.9,\n  'Action': 3.9},\n {'Crime': 4.2209737827715355,\n  'Children': 4.2209737827715355,\n  '(no genres listed)': 4.2209737827715355,\n  'Romance': 4.2209737827715355,\n  'Adventure': 4.2209737827715355,\n  'Horror': 4.2209737827715355,\n  'Drama': 4.2209737827715355,\n  'Comedy': 4.2209737827715355,\n  'Mystery': 4.2209737827715355,\n  'Film-Noir': 4.2209737827715355,\n  'Animation': 4.2209737827715355,\n  'War': 4.2209737827715355,\n  'Western': 4.2209737827715355,\n  'Thriller': 4.2209737827715355,\n  'Documentary': 4.2209737827715355,\n  'IMAX': 4.2209737827715355,\n  'Fantasy': 4.2209737827715355,\n  'Sci-Fi': 4.2209737827715355,\n  'Musical': 4.2209737827715355,\n  'Action': 4.2209737827715355},\n {'Crime': 4.0,\n  'Children': 4.0,\n  '(no genres listed)': 4.0,\n  'Romance': 4.0,\n  'Adventure': 4.0,\n  'Horror': 4.0,\n  'Drama': 4.0,\n  'Comedy': 4.0,\n  'Mystery': 4.0,\n  'Film-Noir': 4.0,\n  'Animation': 4.0,\n  'War': 4.0,\n  'Western': 4.0,\n  'Thriller': 4.0,\n  'Documentary': 4.0,\n  'IMAX': 4.0,\n  'Fantasy': 4.0,\n  'Sci-Fi': 4.0,\n  'Musical': 4.0,\n  'Action': 4.0},\n {'Crime': 4.068690095846645,\n  'Children': 4.068690095846645,\n  '(no genres listed)': 4.068690095846645,\n  'Romance': 4.068690095846645,\n  'Adventure': 4.068690095846645,\n  'Horror': 4.068690095846645,\n  'Drama': 4.068690095846645,\n  'Comedy': 4.068690095846645,\n  'Mystery': 4.068690095846645,\n  'Film-Noir': 4.068690095846645,\n  'Animation': 4.068690095846645,\n  'War': 4.068690095846645,\n  'Western': 4.068690095846645,\n  'Thriller': 4.068690095846645,\n  'Documentary': 4.068690095846645,\n  'IMAX': 4.068690095846645,\n  'Fantasy': 4.068690095846645,\n  'Sci-Fi': 4.068690095846645,\n  'Musical': 4.068690095846645,\n  'Action': 4.068690095846645},\n {'Crime': 4.085714285714285,\n  'Children': 4.085714285714285,\n  '(no genres listed)': 4.085714285714285,\n  'Romance': 4.085714285714285,\n  'Adventure': 4.085714285714285,\n  'Horror': 4.085714285714285,\n  'Drama': 4.085714285714285,\n  'Comedy': 4.085714285714285,\n  'Mystery': 4.085714285714285,\n  'Film-Noir': 4.085714285714285,\n  'Animation': 4.085714285714285,\n  'War': 4.085714285714285,\n  'Western': 4.085714285714285,\n  'Thriller': 4.085714285714285,\n  'Documentary': 4.085714285714285,\n  'IMAX': 4.085714285714285,\n  'Fantasy': 4.085714285714285,\n  'Sci-Fi': 4.085714285714285,\n  'Musical': 4.085714285714285,\n  'Action': 4.085714285714285},\n {'Crime': 4.5234375,\n  'Children': 4.5234375,\n  '(no genres listed)': 4.5234375,\n  'Romance': 4.5234375,\n  'Adventure': 4.5234375,\n  'Horror': 4.5234375,\n  'Drama': 4.5234375,\n  'Comedy': 4.5234375,\n  'Mystery': 4.5234375,\n  'Film-Noir': 4.5234375,\n  'Animation': 4.5234375,\n  'War': 4.5234375,\n  'Western': 4.5234375,\n  'Thriller': 4.5234375,\n  'Documentary': 4.5234375,\n  'IMAX': 4.5234375,\n  'Fantasy': 4.5234375,\n  'Sci-Fi': 4.5234375,\n  'Musical': 4.5234375,\n  'Action': 4.5234375},\n {'Crime': 3.5,\n  'Children': 3.5,\n  '(no genres listed)': 3.5,\n  'Romance': 3.5,\n  'Adventure': 3.5,\n  'Horror': 3.5,\n  'Drama': 3.5,\n  'Comedy': 3.5,\n  'Mystery': 3.5,\n  'Film-Noir': 3.5,\n  'Animation': 3.5,\n  'War': 3.5,\n  'Western': 3.5,\n  'Thriller': 3.5,\n  'Documentary': 3.5,\n  'IMAX': 3.5,\n  'Fantasy': 3.5,\n  'Sci-Fi': 3.5,\n  'Musical': 3.5,\n  'Action': 3.5},\n {'Crime': 4.35,\n  'Children': 4.35,\n  '(no genres listed)': 4.35,\n  'Romance': 4.35,\n  'Adventure': 4.35,\n  'Horror': 4.35,\n  'Drama': 4.35,\n  'Comedy': 4.35,\n  'Mystery': 4.35,\n  'Film-Noir': 4.35,\n  'Animation': 4.35,\n  'War': 4.35,\n  'Western': 4.35,\n  'Thriller': 4.35,\n  'Documentary': 4.35,\n  'IMAX': 4.35,\n  'Fantasy': 4.35,\n  'Sci-Fi': 4.35,\n  'Musical': 4.35,\n  'Action': 4.35},\n {'Crime': 3.387323943661972,\n  'Children': 3.387323943661972,\n  '(no genres listed)': 3.387323943661972,\n  'Romance': 3.387323943661972,\n  'Adventure': 3.387323943661972,\n  'Horror': 3.387323943661972,\n  'Drama': 3.387323943661972,\n  'Comedy': 3.387323943661972,\n  'Mystery': 3.387323943661972,\n  'Film-Noir': 3.387323943661972,\n  'Animation': 3.387323943661972,\n  'War': 3.387323943661972,\n  'Western': 3.387323943661972,\n  'Thriller': 3.387323943661972,\n  'Documentary': 3.387323943661972,\n  'IMAX': 3.387323943661972,\n  'Fantasy': 3.387323943661972,\n  'Sci-Fi': 3.387323943661972,\n  'Musical': 3.387323943661972,\n  'Action': 3.387323943661972},\n {'Crime': 4.168478260869565,\n  'Children': 4.168478260869565,\n  '(no genres listed)': 4.168478260869565,\n  'Romance': 4.168478260869565,\n  'Adventure': 4.168478260869565,\n  'Horror': 4.168478260869565,\n  'Drama': 4.168478260869565,\n  'Comedy': 4.168478260869565,\n  'Mystery': 4.168478260869565,\n  'Film-Noir': 4.168478260869565,\n  'Animation': 4.168478260869565,\n  'War': 4.168478260869565,\n  'Western': 4.168478260869565,\n  'Thriller': 4.168478260869565,\n  'Documentary': 4.168478260869565,\n  'IMAX': 4.168478260869565,\n  'Fantasy': 4.168478260869565,\n  'Sci-Fi': 4.168478260869565,\n  'Musical': 4.168478260869565,\n  'Action': 4.168478260869565},\n {'Crime': 3.8333333333333335,\n  'Children': 3.8333333333333335,\n  '(no genres listed)': 3.8333333333333335,\n  'Romance': 3.8333333333333335,\n  'Adventure': 3.8333333333333335,\n  'Horror': 3.8333333333333335,\n  'Drama': 3.8333333333333335,\n  'Comedy': 3.8333333333333335,\n  'Mystery': 3.8333333333333335,\n  'Film-Noir': 3.8333333333333335,\n  'Animation': 3.8333333333333335,\n  'War': 3.8333333333333335,\n  'Western': 3.8333333333333335,\n  'Thriller': 3.8333333333333335,\n  'Documentary': 3.8333333333333335,\n  'IMAX': 3.8333333333333335,\n  'Fantasy': 3.8333333333333335,\n  'Sci-Fi': 3.8333333333333335,\n  'Musical': 3.8333333333333335,\n  'Action': 3.8333333333333335},\n {'Crime': 3.396551724137931,\n  'Children': 3.396551724137931,\n  '(no genres listed)': 3.396551724137931,\n  'Romance': 3.396551724137931,\n  'Adventure': 3.396551724137931,\n  'Horror': 3.396551724137931,\n  'Drama': 3.396551724137931,\n  'Comedy': 3.396551724137931,\n  'Mystery': 3.396551724137931,\n  'Film-Noir': 3.396551724137931,\n  'Animation': 3.396551724137931,\n  'War': 3.396551724137931,\n  'Western': 3.396551724137931,\n  'Thriller': 3.396551724137931,\n  'Documentary': 3.396551724137931,\n  'IMAX': 3.396551724137931,\n  'Fantasy': 3.396551724137931,\n  'Sci-Fi': 3.396551724137931,\n  'Musical': 3.396551724137931,\n  'Action': 3.396551724137931},\n {'Crime': 3.730769230769231,\n  'Children': 3.730769230769231,\n  '(no genres listed)': 3.730769230769231,\n  'Romance': 3.730769230769231,\n  'Adventure': 3.730769230769231,\n  'Horror': 3.730769230769231,\n  'Drama': 3.730769230769231,\n  'Comedy': 3.730769230769231,\n  'Mystery': 3.730769230769231,\n  'Film-Noir': 3.730769230769231,\n  'Animation': 3.730769230769231,\n  'War': 3.730769230769231,\n  'Western': 3.730769230769231,\n  'Thriller': 3.730769230769231,\n  'Documentary': 3.730769230769231,\n  'IMAX': 3.730769230769231,\n  'Fantasy': 3.730769230769231,\n  'Sci-Fi': 3.730769230769231,\n  'Musical': 3.730769230769231,\n  'Action': 3.730769230769231},\n {'Crime': 3.796724470134875,\n  'Children': 3.796724470134875,\n  '(no genres listed)': 3.796724470134875,\n  'Romance': 3.796724470134875,\n  'Adventure': 3.796724470134875,\n  'Horror': 3.796724470134875,\n  'Drama': 3.796724470134875,\n  'Comedy': 3.796724470134875,\n  'Mystery': 3.796724470134875,\n  'Film-Noir': 3.796724470134875,\n  'Animation': 3.796724470134875,\n  'War': 3.796724470134875,\n  'Western': 3.796724470134875,\n  'Thriller': 3.796724470134875,\n  'Documentary': 3.796724470134875,\n  'IMAX': 3.796724470134875,\n  'Fantasy': 3.796724470134875,\n  'Sci-Fi': 3.796724470134875,\n  'Musical': 3.796724470134875,\n  'Action': 3.796724470134875},\n {'Crime': 3.2857142857142856,\n  'Children': 3.2857142857142856,\n  '(no genres listed)': 3.2857142857142856,\n  'Romance': 3.2857142857142856,\n  'Adventure': 3.2857142857142856,\n  'Horror': 3.2857142857142856,\n  'Drama': 3.2857142857142856,\n  'Comedy': 3.2857142857142856,\n  'Mystery': 3.2857142857142856,\n  'Film-Noir': 3.2857142857142856,\n  'Animation': 3.2857142857142856,\n  'War': 3.2857142857142856,\n  'Western': 3.2857142857142856,\n  'Thriller': 3.2857142857142856,\n  'Documentary': 3.2857142857142856,\n  'IMAX': 3.2857142857142856,\n  'Fantasy': 3.2857142857142856,\n  'Sci-Fi': 3.2857142857142856,\n  'Musical': 3.2857142857142856,\n  'Action': 3.2857142857142856},\n {'Crime': 2.95,\n  'Children': 2.95,\n  '(no genres listed)': 2.95,\n  'Romance': 2.95,\n  'Adventure': 2.95,\n  'Horror': 2.95,\n  'Drama': 2.95,\n  'Comedy': 2.95,\n  'Mystery': 2.95,\n  'Film-Noir': 2.95,\n  'Animation': 2.95,\n  'War': 2.95,\n  'Western': 2.95,\n  'Thriller': 2.95,\n  'Documentary': 2.95,\n  'IMAX': 2.95,\n  'Fantasy': 2.95,\n  'Sci-Fi': 2.95,\n  'Musical': 2.95,\n  'Action': 2.95},\n {'Crime': 3.6470588235294117,\n  'Children': 3.6470588235294117,\n  '(no genres listed)': 3.6470588235294117,\n  'Romance': 3.6470588235294117,\n  'Adventure': 3.6470588235294117,\n  'Horror': 3.6470588235294117,\n  'Drama': 3.6470588235294117,\n  'Comedy': 3.6470588235294117,\n  'Mystery': 3.6470588235294117,\n  'Film-Noir': 3.6470588235294117,\n  'Animation': 3.6470588235294117,\n  'War': 3.6470588235294117,\n  'Western': 3.6470588235294117,\n  'Thriller': 3.6470588235294117,\n  'Documentary': 3.6470588235294117,\n  'IMAX': 3.6470588235294117,\n  'Fantasy': 3.6470588235294117,\n  'Sci-Fi': 3.6470588235294117,\n  'Musical': 3.6470588235294117,\n  'Action': 3.6470588235294117},\n {'Crime': 3.75,\n  'Children': 3.75,\n  '(no genres listed)': 3.75,\n  'Romance': 3.75,\n  'Adventure': 3.75,\n  'Horror': 3.75,\n  'Drama': 3.75,\n  'Comedy': 3.75,\n  'Mystery': 3.75,\n  'Film-Noir': 3.75,\n  'Animation': 3.75,\n  'War': 3.75,\n  'Western': 3.75,\n  'Thriller': 3.75,\n  'Documentary': 3.75,\n  'IMAX': 3.75,\n  'Fantasy': 3.75,\n  'Sci-Fi': 3.75,\n  'Musical': 3.75,\n  'Action': 3.75},\n {'Crime': 3.3513513513513513,\n  'Children': 3.3513513513513513,\n  '(no genres listed)': 3.3513513513513513,\n  'Romance': 3.3513513513513513,\n  'Adventure': 3.3513513513513513,\n  'Horror': 3.3513513513513513,\n  'Drama': 3.3513513513513513,\n  'Comedy': 3.3513513513513513,\n  'Mystery': 3.3513513513513513,\n  'Film-Noir': 3.3513513513513513,\n  'Animation': 3.3513513513513513,\n  'War': 3.3513513513513513,\n  'Western': 3.3513513513513513,\n  'Thriller': 3.3513513513513513,\n  'Documentary': 3.3513513513513513,\n  'IMAX': 3.3513513513513513,\n  'Fantasy': 3.3513513513513513,\n  'Sci-Fi': 3.3513513513513513,\n  'Musical': 3.3513513513513513,\n  'Action': 3.3513513513513513},\n {'Crime': 3.806451612903226,\n  'Children': 3.806451612903226,\n  '(no genres listed)': 3.806451612903226,\n  'Romance': 3.806451612903226,\n  'Adventure': 3.806451612903226,\n  'Horror': 3.806451612903226,\n  'Drama': 3.806451612903226,\n  'Comedy': 3.806451612903226,\n  'Mystery': 3.806451612903226,\n  'Film-Noir': 3.806451612903226,\n  'Animation': 3.806451612903226,\n  'War': 3.806451612903226,\n  'Western': 3.806451612903226,\n  'Thriller': 3.806451612903226,\n  'Documentary': 3.806451612903226,\n  'IMAX': 3.806451612903226,\n  'Fantasy': 3.806451612903226,\n  'Sci-Fi': 3.806451612903226,\n  'Musical': 3.806451612903226,\n  'Action': 3.806451612903226},\n {'Crime': 3.917391304347826,\n  'Children': 3.917391304347826,\n  '(no genres listed)': 3.917391304347826,\n  'Romance': 3.917391304347826,\n  'Adventure': 3.917391304347826,\n  'Horror': 3.917391304347826,\n  'Drama': 3.917391304347826,\n  'Comedy': 3.917391304347826,\n  'Mystery': 3.917391304347826,\n  'Film-Noir': 3.917391304347826,\n  'Animation': 3.917391304347826,\n  'War': 3.917391304347826,\n  'Western': 3.917391304347826,\n  'Thriller': 3.917391304347826,\n  'Documentary': 3.917391304347826,\n  'IMAX': 3.917391304347826,\n  'Fantasy': 3.917391304347826,\n  'Sci-Fi': 3.917391304347826,\n  'Musical': 3.917391304347826,\n  'Action': 3.917391304347826}]"
     },
     "execution_count": 22,
     "metadata": {},
     "output_type": "execute_result"
    }
   ],
   "source": [
    "[x for x in list(user_genre_map.values())]"
   ]
  },
  {
   "cell_type": "code",
   "execution_count": 24,
   "metadata": {},
   "outputs": [
    {
     "data": {
      "text/plain": "((671, 20), 20)"
     },
     "execution_count": 24,
     "metadata": {},
     "output_type": "execute_result"
    }
   ],
   "source": [
    "def flatten_dict(x):\n",
    "    return [x[e] for e in genres]\n",
    "\n",
    "Y = np.array([flatten_dict(x) for x in user_genre_map.values()])\n",
    "Y.shape, len(genres)"
   ]
  },
  {
   "cell_type": "code",
   "execution_count": 27,
   "metadata": {},
   "outputs": [
    {
     "data": {
      "text/plain": "(671, 671)"
     },
     "execution_count": 27,
     "metadata": {},
     "output_type": "execute_result"
    }
   ],
   "source": [
    "user_one_hot = OneHotEncoder()\n",
    "\n",
    "user_one_hot.fit(X.reshape(-1, 1))\n",
    "\n",
    "X_kmeans = user_one_hot.transform(X.reshape(-1, 1))\n",
    "\n",
    "X_kmeans.shape"
   ]
  },
  {
   "cell_type": "code",
   "execution_count": null,
   "metadata": {},
   "outputs": [],
   "source": [
    "# optional hyperparam search\n",
    "# scores = {}\n",
    "# for k in range(len(genres), len(genres)*3):\n",
    "#     kmeans = KMeans(n_clusters=k)\n",
    "#     kmeans.fit(X_kmeans, Y)\n",
    "\n",
    "#     scores[k] = kmeans.inertia_\n",
    "\n",
    "# best k = min(scores.items(), key=operator.itemgetter(1))[0]"
   ]
  },
  {
   "cell_type": "code",
   "execution_count": 33,
   "metadata": {},
   "outputs": [
    {
     "data": {
      "text/plain": "KMeans(n_clusters=40)"
     },
     "execution_count": 33,
     "metadata": {},
     "output_type": "execute_result"
    }
   ],
   "source": [
    "cluster_num = len(genres) * 2\n",
    "kmeans = KMeans(n_clusters=cluster_num)\n",
    "kmeans.fit(X_kmeans, Y.reshape(-1, 1))"
   ]
  },
  {
   "cell_type": "code",
   "execution_count": 34,
   "metadata": {},
   "outputs": [
    {
     "data": {
      "text/plain": "(671,)"
     },
     "execution_count": 34,
     "metadata": {},
     "output_type": "execute_result"
    }
   ],
   "source": [
    "clust_idx = kmeans.predict(X_kmeans)\n",
    "clust_idx.shape"
   ]
  },
  {
   "cell_type": "code",
   "execution_count": 39,
   "metadata": {},
   "outputs": [],
   "source": [
    "cluster_user_map = {k: [] for k in range(0, cluster_num)}\n",
    "user_cluster_map = {}\n",
    "for cluster, u in zip(clust_idx, list(user_genre_map.keys())):\n",
    "    user_cluster_map[u] = cluster\n",
    "    cluster_user_map[cluster].append(u)"
   ]
  },
  {
   "cell_type": "code",
   "execution_count": 40,
   "metadata": {},
   "outputs": [],
   "source": [
    "pickle.dump(cluster_user_map, open('cluster_user_map.pkl', 'wb'))\n",
    "pickle.dump(user_cluster_map, open('user_cluster_map.pkl', 'wb'))"
   ]
  }
 ]
}
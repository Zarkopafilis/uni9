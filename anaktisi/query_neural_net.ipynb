{
 "nbformat": 4,
 "nbformat_minor": 2,
 "metadata": {
  "language_info": {
   "name": "python",
   "codemirror_mode": {
    "name": "ipython",
    "version": 3
   },
   "version": "3.7.9-final"
  },
  "orig_nbformat": 2,
  "file_extension": ".py",
  "mimetype": "text/x-python",
  "name": "python",
  "npconvert_exporter": "python",
  "pygments_lexer": "ipython3",
  "version": 3,
  "kernelspec": {
   "name": "python37964bit8a58e4cfc85b4460b8d6a1cd612c8d43",
   "display_name": "Python 3.7.9 64-bit"
  }
 },
 "cells": [
  {
   "cell_type": "code",
   "execution_count": 1,
   "metadata": {},
   "outputs": [],
   "source": [
    "import pickle\n",
    "import tensorflow as tf\n",
    "import datetime\n",
    "import json\n",
    "import requests\n",
    "\n",
    "from elasticsearch import Elasticsearch"
   ]
  },
  {
   "cell_type": "code",
   "execution_count": 2,
   "metadata": {},
   "outputs": [],
   "source": [
    "es = Elasticsearch([{'host': 'localhost', 'port': 9200}])"
   ]
  },
  {
   "cell_type": "code",
   "execution_count": 3,
   "metadata": {},
   "outputs": [
    {
     "output_type": "execute_result",
     "data": {
      "text/plain": "(LabelEncoder(), LabelEncoder())"
     },
     "metadata": {},
     "execution_count": 3
    }
   ],
   "source": [
    "user_id_enc = pickle.load(open('user_id_enc.pkl', 'rb'))\n",
    "movie_id_enc = pickle.load(open('movie_id_enc.pkl', 'rb'))\n",
    "\n",
    "user_id_enc, movie_id_enc"
   ]
  },
  {
   "cell_type": "code",
   "execution_count": 4,
   "metadata": {},
   "outputs": [],
   "source": [
    "model = tf.keras.models.load_model('neural_model')"
   ]
  },
  {
   "cell_type": "code",
   "execution_count": 5,
   "metadata": {},
   "outputs": [],
   "source": [
    "u = 15\n",
    "q = 'star'"
   ]
  },
  {
   "cell_type": "code",
   "execution_count": 6,
   "metadata": {},
   "outputs": [
    {
     "output_type": "execute_result",
     "data": {
      "text/plain": "[{'_index': 'movies',\n  '_type': 'movie',\n  '_id': '800',\n  '_score': 6.2658124,\n  '_source': {'title': 'Lone Star (1996)',\n   'genres': ['Drama', 'Mystery', 'Western']}},\n {'_index': 'movies',\n  '_type': 'movie',\n  '_id': '1613',\n  '_score': 6.2658124,\n  '_source': {'title': 'Star Maps (1997)', 'genres': ['Drama']}},\n {'_index': 'movies',\n  '_type': 'movie',\n  '_id': '1750',\n  '_score': 6.2658124,\n  '_source': {'title': 'Star Kid (1997)',\n   'genres': ['Adventure', 'Children', 'Fantasy', 'Sci-Fi']}},\n {'_index': 'movies',\n  '_type': 'movie',\n  '_id': '4757',\n  '_score': 6.2658124,\n  '_source': {'title': 'Rock Star (2001)',\n   'genres': ['Comedy', 'Drama', 'Musical']}},\n {'_index': 'movies',\n  '_type': 'movie',\n  '_id': '26487',\n  '_score': 6.2658124,\n  '_source': {'title': 'Star 80 (1983)', 'genres': ['Drama']}},\n {'_index': 'movies',\n  '_type': 'movie',\n  '_id': '68358',\n  '_score': 6.2658124,\n  '_source': {'title': 'Star Trek (2009)',\n   'genres': ['Action', 'Adventure', 'Sci-Fi', 'IMAX']}},\n {'_index': 'movies',\n  '_type': 'movie',\n  '_id': '329',\n  '_score': 5.6514187,\n  '_source': {'title': 'Star Trek: Generations (1994)',\n   'genres': ['Adventure', 'Drama', 'Sci-Fi']}},\n {'_index': 'movies',\n  '_type': 'movie',\n  '_id': '1410',\n  '_score': 5.6514187,\n  '_source': {'title': 'Evening Star, The (1996)',\n   'genres': ['Comedy', 'Drama']}},\n {'_index': 'movies',\n  '_type': 'movie',\n  '_id': '2393',\n  '_score': 5.6514187,\n  '_source': {'title': 'Star Trek: Insurrection (1998)',\n   'genres': ['Action', 'Drama', 'Romance', 'Sci-Fi']}},\n {'_index': 'movies',\n  '_type': 'movie',\n  '_id': '5944',\n  '_score': 5.6514187,\n  '_source': {'title': 'Star Trek: Nemesis (2002)',\n   'genres': ['Action', 'Drama', 'Sci-Fi', 'Thriller']}}]"
     },
     "metadata": {},
     "execution_count": 6
    }
   ],
   "source": [
    " query = {\n",
    "        'query': {\n",
    "            'match': {\n",
    "                'title': q\n",
    "            }\n",
    "        },\n",
    "        'sort': [{'_score': 'desc'}]\n",
    "    }\n",
    "res = es.search(index='movies', doc_type='movie', body=json.dumps(query))\n",
    "hits = res['hits']['hits']\n",
    "hits"
   ]
  },
  {
   "cell_type": "code",
   "execution_count": 8,
   "metadata": {},
   "outputs": [
    {
     "output_type": "execute_result",
     "data": {
      "text/plain": "[{'_index': 'movies',\n  '_type': 'movie',\n  '_id': '800',\n  '_score': 6.2658124,\n  '_source': {'title': 'Lone Star (1996)',\n   'genres': ['Drama', 'Mystery', 'Western']},\n  '_r': 3.7716784},\n {'_index': 'movies',\n  '_type': 'movie',\n  '_id': '68358',\n  '_score': 6.2658124,\n  '_source': {'title': 'Star Trek (2009)',\n   'genres': ['Action', 'Adventure', 'Sci-Fi', 'IMAX']},\n  '_r': 3.4773805},\n {'_index': 'movies',\n  '_type': 'movie',\n  '_id': '1613',\n  '_score': 6.2658124,\n  '_source': {'title': 'Star Maps (1997)', 'genres': ['Drama']},\n  '_r': 2.0342047},\n {'_index': 'movies',\n  '_type': 'movie',\n  '_id': '26487',\n  '_score': 6.2658124,\n  '_source': {'title': 'Star 80 (1983)', 'genres': ['Drama']},\n  '_r': 1.5647167},\n {'_index': 'movies',\n  '_type': 'movie',\n  '_id': '1750',\n  '_score': 6.2658124,\n  '_source': {'title': 'Star Kid (1997)',\n   'genres': ['Adventure', 'Children', 'Fantasy', 'Sci-Fi']},\n  '_r': 1.3835651},\n {'_index': 'movies',\n  '_type': 'movie',\n  '_id': '4757',\n  '_score': 6.2658124,\n  '_source': {'title': 'Rock Star (2001)',\n   'genres': ['Comedy', 'Drama', 'Musical']},\n  '_r': 1.238296},\n {'_index': 'movies',\n  '_type': 'movie',\n  '_id': '2393',\n  '_score': 5.6514187,\n  '_source': {'title': 'Star Trek: Insurrection (1998)',\n   'genres': ['Action', 'Drama', 'Romance', 'Sci-Fi']},\n  '_r': 2.0007112},\n {'_index': 'movies',\n  '_type': 'movie',\n  '_id': '5944',\n  '_score': 5.6514187,\n  '_source': {'title': 'Star Trek: Nemesis (2002)',\n   'genres': ['Action', 'Drama', 'Sci-Fi', 'Thriller']},\n  '_r': 1.8117578},\n {'_index': 'movies',\n  '_type': 'movie',\n  '_id': '329',\n  '_score': 5.6514187,\n  '_source': {'title': 'Star Trek: Generations (1994)',\n   'genres': ['Adventure', 'Drama', 'Sci-Fi']},\n  '_r': 1.7458739},\n {'_index': 'movies',\n  '_type': 'movie',\n  '_id': '1410',\n  '_score': 5.6514187,\n  '_source': {'title': 'Evening Star, The (1996)',\n   'genres': ['Comedy', 'Drama']},\n  '_r': 1.4984398}]"
     },
     "metadata": {},
     "execution_count": 8
    }
   ],
   "source": [
    "# movieId = _id\n",
    "# ratingScore = _score\n",
    "max_score = max(x['_score'] for x in hits)\n",
    "examples = [x['_id'] for x in hits]\n",
    "\n",
    "user_id_encoded = user_id_enc.transform([u])\n",
    "def get_rating(movie_id):\n",
    "    model_input = {'movie_id': movie_id_enc.transform([int(movie_id)]), 'user_id': user_id_encoded}\n",
    "    return model.predict(model_input)[0][0][0]\n",
    "\n",
    "ratings = [get_rating(x) for x in examples]\n",
    "for h, r in zip(hits, ratings):\n",
    "    h['_r'] = r\n",
    "\n",
    "def rating_rank_boost(rating):\n",
    "    return rating / max_score\n",
    "\n",
    "results = sorted(hits, key=lambda x: 0.6 * x['_score'] + 0.4 * rating_rank_boost(x['_r']), reverse=True)\n",
    "results"
   ]
  },
  {
   "cell_type": "code",
   "execution_count": null,
   "metadata": {},
   "outputs": [],
   "source": []
  }
 ]
}
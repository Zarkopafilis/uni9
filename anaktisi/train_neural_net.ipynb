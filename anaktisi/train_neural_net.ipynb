{
 "nbformat": 4,
 "nbformat_minor": 2,
 "metadata": {
  "language_info": {
   "name": "python",
   "codemirror_mode": {
    "name": "ipython",
    "version": 3
   },
   "version": "3.7.9-final"
  },
  "orig_nbformat": 2,
  "file_extension": ".py",
  "mimetype": "text/x-python",
  "name": "python",
  "npconvert_exporter": "python",
  "pygments_lexer": "ipython3",
  "version": 3,
  "kernelspec": {
   "name": "python37964bit8a58e4cfc85b4460b8d6a1cd612c8d43",
   "display_name": "Python 3.7.9 64-bit"
  }
 },
 "cells": [
  {
   "cell_type": "code",
   "execution_count": 137,
   "metadata": {},
   "outputs": [],
   "source": [
    "import pickle\n",
    "import datetime\n",
    "import json\n",
    "import requests\n",
    "import itertools\n",
    "import tensorflow as tf\n",
    "import pandas as pd\n",
    "import numpy as np \n",
    "from sklearn import preprocessing\n",
    "\n",
    "from elasticsearch import Elasticsearch"
   ]
  },
  {
   "cell_type": "code",
   "execution_count": 3,
   "metadata": {},
   "outputs": [],
   "source": [
    "df = pd.read_csv('movies.csv')\n",
    "df['title'] = df['title'].map(lambda x: x.strip())\n",
    "df['genres'] = df['genres'].map(lambda x: x.split('|'))\n",
    "# df['year'] = df['title'].map(lambda x: x[-6:][1:-1])\n",
    "df = df.astype({'title': 'str'})\n",
    "\n",
    "df_movies = df\n",
    "\n",
    "df = pd.read_csv('ratings.csv')\n",
    "df['datetime'] = df['timestamp'].map(lambda x: datetime.datetime.fromtimestamp(x))\n",
    "\n",
    "df_ratings = df"
   ]
  },
  {
   "cell_type": "code",
   "execution_count": 95,
   "metadata": {},
   "outputs": [
    {
     "data": {
      "text/plain": "{'(no genres listed)',\n 'Action',\n 'Adventure',\n 'Animation',\n 'Children',\n 'Comedy',\n 'Crime',\n 'Documentary',\n 'Drama',\n 'Fantasy',\n 'Film-Noir',\n 'Horror',\n 'IMAX',\n 'Musical',\n 'Mystery',\n 'Romance',\n 'Sci-Fi',\n 'Thriller',\n 'War',\n 'Western'}"
     },
     "execution_count": 95,
     "metadata": {},
     "output_type": "execute_result"
    }
   ],
   "source": [
    "userIds = df_ratings['userId'].unique()\n",
    "movieIds = df_ratings['movieId'].unique()"
   ]
  },
  {
   "cell_type": "code",
   "execution_count": 127,
   "metadata": {},
   "outputs": [
    {
     "data": {
      "text/plain": "LabelEncoder()"
     },
     "execution_count": 127,
     "metadata": {},
     "output_type": "execute_result"
    }
   ],
   "source": [
    "user_id_enc = preprocessing.LabelEncoder()\n",
    "user_id_enc.fit(df_ratings['userId'].values)\n",
    "\n",
    "movie_id_enc = preprocessing.LabelEncoder()\n",
    "movie_id_enc.fit(df_ratings['movieId'].values)"
   ]
  },
  {
   "cell_type": "code",
   "execution_count": 129,
   "metadata": {},
   "outputs": [
    {
     "data": {
      "text/plain": "(671, 9066)"
     },
     "execution_count": 129,
     "metadata": {},
     "output_type": "execute_result"
    }
   ],
   "source": [
    "len(user_id_enc.classes_), len(movie_id_enc.classes_)"
   ]
  },
  {
   "cell_type": "code",
   "execution_count": 130,
   "metadata": {},
   "outputs": [],
   "source": [
    "user_ids = user_id_enc.transform(df_ratings['userId'].values)\n",
    "movie_ids = movie_id_enc.transform(df_ratings['movieId'].values)"
   ]
  },
  {
   "cell_type": "code",
   "execution_count": 131,
   "metadata": {},
   "outputs": [],
   "source": [
    "# model creation\n",
    "input_layers = {\n",
    "    colname: tf.keras.layers.Input(name=colname, shape=(1,), dtype=tf.int32)\n",
    "    for colname in ['user_id', 'movie_id']\n",
    "}\n",
    "\n",
    "\n",
    "user_id_input = input_layers['user_id']\n",
    "movie_id_input = input_layers['movie_id']\n",
    "\n",
    "user_emb = tf.keras.layers.Embedding(len(user_id_enc.classes_), 64, name='user_emb')(user_id_input)\n",
    "movie_emb = tf.keras.layers.Embedding(len(movie_id_enc.classes_), 64, name='movie_emb')(movie_id_input)\n",
    "features = tf.keras.layers.Concatenate()([user_emb, movie_emb])\n",
    "\n",
    "hidden = tf.keras.layers.Dense(64, activation='relu')(features)\n",
    "model_out = tf.keras.layers.Dense(1, activation='relu')(hidden)\n",
    "model = tf.keras.Model(input_layers, model_out)"
   ]
  },
  {
   "cell_type": "code",
   "execution_count": 133,
   "metadata": {},
   "outputs": [],
   "source": [
    "model.compile(loss='mae', optimizer='adam')\n",
    "#model.summary()"
   ]
  },
  {
   "cell_type": "code",
   "execution_count": 134,
   "metadata": {},
   "outputs": [
    {
     "data": {
      "text/plain": "(100004, 100004, 100004)"
     },
     "execution_count": 134,
     "metadata": {},
     "output_type": "execute_result"
    }
   ],
   "source": [
    "# X = [{'user_id': np.asarray(x), 'movie_id': np.asarray(y), 'genre': z} for x, y, z in zip(user_ids, movie_ids, genres)]\n",
    "X = {'user_id': user_ids, 'movie_id': movie_ids}\n",
    "Y = df_ratings['rating'].values\n",
    "\n",
    "len(X['user_id']), len(X['movie_id']), len(Y)"
   ]
  },
  {
   "cell_type": "code",
   "execution_count": 135,
   "metadata": {},
   "outputs": [
    {
     "name": "stdout",
     "output_type": "stream",
     "text": "Epoch 1/3\n3126/3126 [==============================] - 30s 10ms/step - loss: 0.7874\nEpoch 2/3\n3126/3126 [==============================] - 32s 10ms/step - loss: 0.6586\nEpoch 3/3\n3126/3126 [==============================] - 27s 9ms/step - loss: 0.6344\n"
    }
   ],
   "source": [
    "history = model.fit(X, Y, epochs=3)"
   ]
  },
  {
   "cell_type": "code",
   "execution_count": 140,
   "metadata": {},
   "outputs": [
    {
     "name": "stdout",
     "output_type": "stream",
     "text": "INFO:tensorflow:Assets written to: neural_model\\assets\n"
    }
   ],
   "source": [
    "pickle.dump(user_id_enc, open('user_id_enc.pkl', 'wb'))\n",
    "pickle.dump(movie_id_enc, open('movie_id_enc.pkl', 'wb'))\n",
    "model.save('neural_model')"
   ]
  }
 ]
}
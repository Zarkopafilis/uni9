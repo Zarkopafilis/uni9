{
 "nbformat": 4,
 "nbformat_minor": 2,
 "metadata": {
  "language_info": {
   "name": "python",
   "codemirror_mode": {
    "name": "ipython",
    "version": 3
   },
   "version": "3.7.9-final"
  },
  "orig_nbformat": 2,
  "file_extension": ".py",
  "mimetype": "text/x-python",
  "name": "python",
  "npconvert_exporter": "python",
  "pygments_lexer": "ipython3",
  "version": 3,
  "kernelspec": {
   "name": "python37964bit8a58e4cfc85b4460b8d6a1cd612c8d43",
   "display_name": "Python 3.7.9 64-bit"
  }
 },
 "cells": [
  {
   "cell_type": "code",
   "execution_count": 2,
   "metadata": {},
   "outputs": [],
   "source": [
    "import pickle\n",
    "import datetime\n",
    "import json\n",
    "import requests\n",
    "import pandas as pd\n",
    "import numpy as np\n",
    "from scipy.sparse import hstack\n",
    "from elasticsearch import Elasticsearch"
   ]
  },
  {
   "cell_type": "code",
   "execution_count": 3,
   "metadata": {},
   "outputs": [],
   "source": [
    "es = Elasticsearch([{'host': 'localhost', 'port': 9200}])"
   ]
  },
  {
   "cell_type": "code",
   "execution_count": 12,
   "metadata": {},
   "outputs": [],
   "source": [
    "df = pd.read_csv('ratings.csv')\n",
    "df['datetime'] = df['timestamp'].map(lambda x: datetime.datetime.fromtimestamp(x))\n",
    "\n",
    "df_ratings = df"
   ]
  },
  {
   "cell_type": "code",
   "execution_count": 4,
   "metadata": {},
   "outputs": [],
   "source": [
    "user_cluster_map = pickle.load(open('user_cluster_map.pkl', 'rb'))\n",
    "cluster_user_map = pickle.load(open('cluster_user_map.pkl', 'rb'))"
   ]
  },
  {
   "cell_type": "code",
   "execution_count": 5,
   "metadata": {},
   "outputs": [],
   "source": [
    "q = 'star'\n",
    "u = 15"
   ]
  },
  {
   "cell_type": "code",
   "execution_count": 6,
   "metadata": {},
   "outputs": [
    {
     "data": {
      "text/plain": "[{'_index': 'movies',\n  '_type': 'movie',\n  '_id': '1750',\n  '_score': 6.2658124,\n  '_source': {'title': 'Star Kid (1997)',\n   'genres': ['Adventure', 'Children', 'Fantasy', 'Sci-Fi']}},\n {'_index': 'movies',\n  '_type': 'movie',\n  '_id': '1613',\n  '_score': 6.2658124,\n  '_source': {'title': 'Star Maps (1997)', 'genres': ['Drama']}},\n {'_index': 'movies',\n  '_type': 'movie',\n  '_id': '800',\n  '_score': 6.2658124,\n  '_source': {'title': 'Lone Star (1996)',\n   'genres': ['Drama', 'Mystery', 'Western']}},\n {'_index': 'movies',\n  '_type': 'movie',\n  '_id': '4757',\n  '_score': 6.2658124,\n  '_source': {'title': 'Rock Star (2001)',\n   'genres': ['Comedy', 'Drama', 'Musical']}},\n {'_index': 'movies',\n  '_type': 'movie',\n  '_id': '26487',\n  '_score': 6.2658124,\n  '_source': {'title': 'Star 80 (1983)', 'genres': ['Drama']}},\n {'_index': 'movies',\n  '_type': 'movie',\n  '_id': '68358',\n  '_score': 6.2658124,\n  '_source': {'title': 'Star Trek (2009)',\n   'genres': ['Action', 'Adventure', 'Sci-Fi', 'IMAX']}},\n {'_index': 'movies',\n  '_type': 'movie',\n  '_id': '1410',\n  '_score': 5.6514187,\n  '_source': {'title': 'Evening Star, The (1996)',\n   'genres': ['Comedy', 'Drama']}},\n {'_index': 'movies',\n  '_type': 'movie',\n  '_id': '329',\n  '_score': 5.6514187,\n  '_source': {'title': 'Star Trek: Generations (1994)',\n   'genres': ['Adventure', 'Drama', 'Sci-Fi']}},\n {'_index': 'movies',\n  '_type': 'movie',\n  '_id': '2393',\n  '_score': 5.6514187,\n  '_source': {'title': 'Star Trek: Insurrection (1998)',\n   'genres': ['Action', 'Drama', 'Romance', 'Sci-Fi']}},\n {'_index': 'movies',\n  '_type': 'movie',\n  '_id': '5944',\n  '_score': 5.6514187,\n  '_source': {'title': 'Star Trek: Nemesis (2002)',\n   'genres': ['Action', 'Drama', 'Sci-Fi', 'Thriller']}}]"
     },
     "execution_count": 6,
     "metadata": {},
     "output_type": "execute_result"
    }
   ],
   "source": [
    "query = {\n",
    "        'query': {\n",
    "            'match': {\n",
    "                'title': q\n",
    "            }\n",
    "        },\n",
    "        'sort': [{'_score': 'desc'}]\n",
    "    }\n",
    "res = es.search(index='movies', doc_type='movie', body=json.dumps(query))\n",
    "hits = res['hits']['hits']\n",
    "\n",
    "hits"
   ]
  },
  {
   "cell_type": "code",
   "execution_count": 10,
   "metadata": {},
   "outputs": [],
   "source": [
    "user_cluster = user_cluster_map[u]\n",
    "other_users = cluster_user_map[user_cluster]"
   ]
  },
  {
   "cell_type": "code",
   "execution_count": 13,
   "metadata": {},
   "outputs": [
    {
     "data": {
      "text/plain": "['1750',\n '1613',\n '800',\n '4757',\n '26487',\n '68358',\n '1410',\n '329',\n '2393',\n '5944']"
     },
     "execution_count": 13,
     "metadata": {},
     "output_type": "execute_result"
    }
   ],
   "source": [
    "movies_to_rate = [x['_id'] for x in hits]\n",
    "movies_to_rate"
   ]
  },
  {
   "cell_type": "code",
   "execution_count": 15,
   "metadata": {},
   "outputs": [],
   "source": [
    "kmeans_rating = {m: 0 for m in movies_to_rate}\n",
    "for movie in movies_to_rate:\n",
    "    r = 0\n",
    "    r_count = 0\n",
    "    for u in other_users:\n",
    "        candidate_df = df_ratings[(df_ratings['userId'] == u) & (df_ratings['movieId'] == movie)]\n",
    "        if not candidate_df.empty:\n",
    "            r += candidate_df.iloc[0]['rating']\n",
    "            r_count += 1\n",
    "    if r_count != 0:\n",
    "        r = r / r_count\n",
    "        kmeans_rating[movie] = r"
   ]
  },
  {
   "cell_type": "code",
   "execution_count": 16,
   "metadata": {},
   "outputs": [
    {
     "data": {
      "text/plain": "[{'_index': 'movies',\n  '_type': 'movie',\n  '_id': '1750',\n  '_score': 6.2658124,\n  '_source': {'title': 'Star Kid (1997)',\n   'genres': ['Adventure', 'Children', 'Fantasy', 'Sci-Fi']},\n  '_r': 0},\n {'_index': 'movies',\n  '_type': 'movie',\n  '_id': '1613',\n  '_score': 6.2658124,\n  '_source': {'title': 'Star Maps (1997)', 'genres': ['Drama']},\n  '_r': 0},\n {'_index': 'movies',\n  '_type': 'movie',\n  '_id': '800',\n  '_score': 6.2658124,\n  '_source': {'title': 'Lone Star (1996)',\n   'genres': ['Drama', 'Mystery', 'Western']},\n  '_r': 0},\n {'_index': 'movies',\n  '_type': 'movie',\n  '_id': '4757',\n  '_score': 6.2658124,\n  '_source': {'title': 'Rock Star (2001)',\n   'genres': ['Comedy', 'Drama', 'Musical']},\n  '_r': 0},\n {'_index': 'movies',\n  '_type': 'movie',\n  '_id': '26487',\n  '_score': 6.2658124,\n  '_source': {'title': 'Star 80 (1983)', 'genres': ['Drama']},\n  '_r': 0},\n {'_index': 'movies',\n  '_type': 'movie',\n  '_id': '68358',\n  '_score': 6.2658124,\n  '_source': {'title': 'Star Trek (2009)',\n   'genres': ['Action', 'Adventure', 'Sci-Fi', 'IMAX']},\n  '_r': 0},\n {'_index': 'movies',\n  '_type': 'movie',\n  '_id': '1410',\n  '_score': 5.6514187,\n  '_source': {'title': 'Evening Star, The (1996)',\n   'genres': ['Comedy', 'Drama']},\n  '_r': 0},\n {'_index': 'movies',\n  '_type': 'movie',\n  '_id': '329',\n  '_score': 5.6514187,\n  '_source': {'title': 'Star Trek: Generations (1994)',\n   'genres': ['Adventure', 'Drama', 'Sci-Fi']},\n  '_r': 0},\n {'_index': 'movies',\n  '_type': 'movie',\n  '_id': '2393',\n  '_score': 5.6514187,\n  '_source': {'title': 'Star Trek: Insurrection (1998)',\n   'genres': ['Action', 'Drama', 'Romance', 'Sci-Fi']},\n  '_r': 0},\n {'_index': 'movies',\n  '_type': 'movie',\n  '_id': '5944',\n  '_score': 5.6514187,\n  '_source': {'title': 'Star Trek: Nemesis (2002)',\n   'genres': ['Action', 'Drama', 'Sci-Fi', 'Thriller']},\n  '_r': 0}]"
     },
     "execution_count": 16,
     "metadata": {},
     "output_type": "execute_result"
    }
   ],
   "source": [
    "max_score = max(x['_score'] for x in hits)\n",
    "\n",
    "for h in hits:\n",
    "    h['_r'] = kmeans_rating[h['_id']]\n",
    "\n",
    "def rating_rank_boost(rating):\n",
    "    return rating / max_score\n",
    "\n",
    "results = sorted(hits, key=lambda x: 0.6 * x['_score'] + 0.4 * rating_rank_boost(x['_r']), reverse=True)\n",
    "results"
   ]
  }
 ]
}